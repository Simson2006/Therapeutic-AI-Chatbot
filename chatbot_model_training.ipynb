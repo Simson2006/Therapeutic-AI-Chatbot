{
 "cells": [
  {
   "cell_type": "code",
   "execution_count": 42,
   "id": "112ae306",
   "metadata": {},
   "outputs": [],
   "source": [
    "import json\n",
    "with open(\"intents.json\",'r') as file:\n",
    "    data=json.load(file)"
   ]
  },
  {
   "cell_type": "code",
   "execution_count": 43,
   "id": "896ed0bc",
   "metadata": {},
   "outputs": [],
   "source": [
    "labels = []\n",
    "training = []\n",
    "\n",
    "for intent in data['intents']:\n",
    "    if intent['tag'] not in labels:\n",
    "        labels.append(intent['tag'])\n",
    "    for pattern in intent['patterns']:\n",
    "        training.append(pattern) \n"
   ]
  },
  {
   "cell_type": "code",
   "execution_count": 45,
   "id": "395bbfe8",
   "metadata": {},
   "outputs": [
    {
     "ename": "NameError",
     "evalue": "name 'tags' is not defined",
     "output_type": "error",
     "traceback": [
      "\u001b[1;31m---------------------------------------------------------------------------\u001b[0m",
      "\u001b[1;31mNameError\u001b[0m                                 Traceback (most recent call last)",
      "Cell \u001b[1;32mIn[45], line 1\u001b[0m\n\u001b[1;32m----> 1\u001b[0m \u001b[43mtags\u001b[49m\n",
      "\u001b[1;31mNameError\u001b[0m: name 'tags' is not defined"
     ]
    }
   ],
   "source": [
    "tags"
   ]
  },
  {
   "cell_type": "code",
   "execution_count": null,
   "id": "64a95ea5",
   "metadata": {},
   "outputs": [],
   "source": []
  }
 ],
 "metadata": {
  "kernelspec": {
   "display_name": "myenv",
   "language": "python",
   "name": "python3"
  },
  "language_info": {
   "codemirror_mode": {
    "name": "ipython",
    "version": 3
   },
   "file_extension": ".py",
   "mimetype": "text/x-python",
   "name": "python",
   "nbconvert_exporter": "python",
   "pygments_lexer": "ipython3",
   "version": "3.10.18"
  }
 },
 "nbformat": 4,
 "nbformat_minor": 5
}
